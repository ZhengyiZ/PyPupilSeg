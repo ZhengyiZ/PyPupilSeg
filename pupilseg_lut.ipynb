{
 "cells": [
  {
   "cell_type": "markdown",
   "metadata": {},
   "source": [
    "## Pupil Segmentation FullyRot - LUT\n",
    "\n",
    "> Author: [Zhengyi Zhan](mailto:zhanzy@zju.edu.cn)\n",
    ">\n",
    "> Date: Sept 15, 2024\n",
    "\n",
    "### Introduction\n",
    "\n",
    "This script uses a binary grating on an SLM to perform pupil segmentation for local and non-linear LUT correction.\n",
    "\n",
    "It implements a 'FullyRot' pattern where one mask is moved in a rotational order.\n",
    "\n",
    "Key Features:\n",
    "- Utilizes HPC_SLM_Calib for SLM control and GxCam for camera operations\n",
    "- Generates rotational coordinates for grating mask placement\n",
    "- Applies LUT changes to the moving mask\n",
    "- Captures and saves image data for further analysis"
   ]
  },
  {
   "cell_type": "markdown",
   "metadata": {},
   "source": [
    "### Initialize Camera & SLM"
   ]
  },
  {
   "cell_type": "code",
   "execution_count": 1,
   "metadata": {},
   "outputs": [],
   "source": [
    "from hpc_slm.hpc_slm import *\n",
    "from gxipy.MyGxCam import GxCam\n",
    "\n",
    "monitor_idx = 2             # Index of the monitor connected to SLM (via DVI)\n",
    "size = [1024, 1272]         # SLM resolution [height, width]\n",
    "\n",
    "cam_model_query = '1070'    # Camera model identifier\n",
    "\n",
    "# Initialize SLM & grating object\n",
    "slm = HPC_SLM_Calib(monitor_idx, 0, size)\n",
    "slm.display_img(np.zeros(size, dtype=np.uint8)) # Display a blank image on SLM to verify correct monitor\n",
    "\n",
    "# Initialize cam\n",
    "cam = GxCam(cam_model_query)\n",
    "cam.set_trigger_mode(True)      # Enable trigger mode for synchronized capture"
   ]
  },
  {
   "cell_type": "markdown",
   "metadata": {},
   "source": [
    "### Set Grating Cooridnates Parameters"
   ]
  },
  {
   "cell_type": "code",
   "execution_count": 2,
   "metadata": {},
   "outputs": [],
   "source": [
    "center_x = 636\n",
    "center_y = 460\n",
    "\n",
    "beam_diameter = 310     # Diameter of the beam\n",
    "grating_size = 29       # Size of each grating mask\n",
    "d1 = 36                 # Distance from the center to the center of the first circle\n",
    "\n",
    "grating_type = 'binary' # The type of the grating\n",
    "grating_step = 2        # Step size for the grating\n",
    "\n",
    "turns = 5               # Number of rotational turns\n",
    "# numbers = 9\n",
    "numbers = np.array([9, 18, 26, 30, 40]) # Custom numbers of points for each turn\n",
    "\n",
    "beam_diameter += grating_size   # Adjust beam diameter to include grating size\n",
    "\n",
    "from hpc_slm.gratings import *\n",
    "import matplotlib.pyplot as plt\n",
    "\n",
    "g = Gratings(size)\n",
    "\n",
    "# Generate rotational coordinates and preview image\n",
    "cx, cy, img = g.gen_rotational_coors(grating_size, d1, beam_diameter, \n",
    "                                     center_x, center_y, turns, numbers, img_flag=True)"
   ]
  },
  {
   "cell_type": "markdown",
   "metadata": {},
   "source": [
    "### Preview Rotational Cooridnates"
   ]
  },
  {
   "cell_type": "code",
   "execution_count": null,
   "metadata": {},
   "outputs": [],
   "source": [
    "plt.figure(figsize=(9, 6))\n",
    "plt.imshow(img)\n",
    "plt.show()"
   ]
  },
  {
   "cell_type": "markdown",
   "metadata": {},
   "source": [
    "### Acquisition"
   ]
  },
  {
   "cell_type": "code",
   "execution_count": null,
   "metadata": {},
   "outputs": [],
   "source": [
    "from tqdm import tqdm\n",
    "import time\n",
    "from pathlib import Path\n",
    "\n",
    "# start, end, numbers\n",
    "lut = np.linspace(0, 255, 15, endpoint = True)\n",
    "\n",
    "slm_delay = 0.1         # Delay between SLM updates (in seconds)\n",
    "frame_per_postion = 1   # Number of frames to capture per position\n",
    "\n",
    "# phase_step = 4          # Number of phase steps (use 1 to disable phase shift)\n",
    "\n",
    "# Load SLM calibration file\n",
    "# calib_file = Path(r'D:\\.MINFLUX\\CalibData\\slm-calib\\yzt-642-100ms.h5')  # SLM calibration file\n",
    "# flat_flag = True        # Apply flat field correction\n",
    "# local_flag = True       # Use local LUT for calibration\n",
    "# global_lut = 200        # Global LUT value (only used when local_flag is False)\n",
    "# slm.load_calib_file(calib_file)\n",
    "\n",
    "# Generate a whole grating pattern\n",
    "grating = g.gen_grating(grating_type, beam_diameter,\n",
    "                        grating_step = grating_step,\n",
    "                        circle_mask = True, phase_inverse = False)\n",
    "\n",
    "# Open camera stream\n",
    "cam.open_stream()\n",
    "time.sleep(0.1) # Short delay to ensure camera is ready\n",
    "\n",
    "# Place the binary grating into the specified cooridnates of canvas\n",
    "whole_grating_canvas = g.place_patterns(cx[0:1], cy[0:1], grating)\n",
    "\n",
    "# Get one frame from camera to initialize memory and set up image array\n",
    "tmp = cam.get_snapshot()\n",
    "imgs = np.zeros(tmp.shape + (len(lut), len(cx),), dtype = tmp.dtype)\n",
    "\n",
    "time.sleep(slm_delay)\n",
    "\n",
    "# Main acquisition loop\n",
    "for i in tqdm(range(len(cx))):\n",
    "    # Generate canvas mask for one circle and apply it\n",
    "    grating_mask = g.gen_canvas_mask(np.array([grating_size]), cx[i:i+1], cy[i:i+1], circle_mask=True)\n",
    "    grating_canvas = g.apply_canvas_mask(whole_grating_canvas, grating_mask)\n",
    " \n",
    "    for j, value in enumerate(lut):\n",
    "        # Send pattern to SLM\n",
    "        slm.phs_to_display(grating_canvas, False, False, value)\n",
    "\n",
    "        time.sleep(slm_delay)   # Wait for SLM to ensure the pattern is changed\n",
    "\n",
    "        # Capture one frame from camera\n",
    "        imgs[:, :, j, i] = cam.get_snapshot()\n",
    "\n",
    "# Close camera stream\n",
    "cam.close_stream()"
   ]
  },
  {
   "cell_type": "markdown",
   "metadata": {},
   "source": [
    "### Data Preview"
   ]
  },
  {
   "cell_type": "code",
   "execution_count": null,
   "metadata": {},
   "outputs": [],
   "source": [
    "# Preview the first 9 images\n",
    "plt.figure(figsize=(9, 9))\n",
    "for i in range(9):\n",
    "    plt.subplot(3,3,i+1)\n",
    "    plt.imshow(imgs[:, :, 2, i+1])\n",
    "plt.show()"
   ]
  },
  {
   "cell_type": "markdown",
   "metadata": {},
   "source": [
    "### Save Data"
   ]
  },
  {
   "cell_type": "code",
   "execution_count": 10,
   "metadata": {},
   "outputs": [],
   "source": [
    "from scipy.io import savemat\n",
    "from datetime import datetime\n",
    "\n",
    "# Generate filename with current timestamp\n",
    "current_time = datetime.now().strftime('%Y%m%d_%H%M%S')\n",
    "file_name = Path(f\"pupilseg_lut_{current_time}.mat\")\n",
    "final_path = Path(r\"D:\\BeamSense\\PyPupilSegLUT\") / file_name\n",
    "\n",
    "# Prepare the structs of metadata\n",
    "grating_para = {\n",
    "    'type': grating_type,\n",
    "    'size': grating_size,\n",
    "    'step': grating_step,\n",
    "    'beam_diameter': beam_diameter,\n",
    "    'd1': d1,\n",
    "    'turns': turns,\n",
    "    'numbers': numbers\n",
    "}\n",
    "\n",
    "slm_para = {\n",
    "    # 'local': local_flag,\n",
    "    # 'flat': flat_flag,\n",
    "    # 'calib_file': str(calib_file),\n",
    "    'delay': slm_delay\n",
    "}\n",
    "\n",
    "# Save data and metadata to '.mat'\n",
    "savemat(str(final_path), {'imgs': imgs,\n",
    "                          'cx': cx, 'cy': cy, \n",
    "                          'lut': lut,\n",
    "                          'grating_para': grating_para, \n",
    "                          'slm_para': slm_para})"
   ]
  },
  {
   "cell_type": "markdown",
   "metadata": {},
   "source": [
    "### Release Camera & SLM"
   ]
  },
  {
   "cell_type": "code",
   "execution_count": 5,
   "metadata": {},
   "outputs": [],
   "source": [
    "del cam\n",
    "del slm"
   ]
  }
 ],
 "metadata": {
  "kernelspec": {
   "display_name": "base",
   "language": "python",
   "name": "python3"
  },
  "language_info": {
   "codemirror_mode": {
    "name": "ipython",
    "version": 3
   },
   "file_extension": ".py",
   "mimetype": "text/x-python",
   "name": "python",
   "nbconvert_exporter": "python",
   "pygments_lexer": "ipython3",
   "version": "3.12.4"
  }
 },
 "nbformat": 4,
 "nbformat_minor": 2
}
